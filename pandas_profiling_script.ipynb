{
 "cells": [
  {
   "cell_type": "code",
   "execution_count": 2,
   "metadata": {
    "collapsed": true
   },
   "outputs": [],
   "source": [
    "import pandas as pd\n",
    "import pandas_profiling\n",
    "from flask import Flask, render_template\n",
    "import os"
   ]
  },
  {
   "cell_type": "code",
   "execution_count": 3,
   "metadata": {
    "collapsed": false
   },
   "outputs": [],
   "source": [
    "def report_creator(file):\n",
    "    raw_data = pd.read_csv(file)\n",
    "    return pandas_profiling.ProfileReport(raw_data).to_file('Profile-Report')"
   ]
  },
  {
   "cell_type": "code",
   "execution_count": 4,
   "metadata": {},
   "outputs": [
    {
     "name": "stdout",
     "output_type": "stream",
     "text": [
      " * Serving Flask app \"__main__\" (lazy loading)\n",
      " * Environment: production\n",
      "\u001B[31m   WARNING: This is a development server. Do not use it in a production deployment.\u001B[0m\n",
      "\u001B[2m   Use a production WSGI server instead.\u001B[0m\n",
      " * Debug mode: off\n"
     ]
    },
    {
     "name": "stderr",
     "output_type": "stream",
     "text": [
      " * Running on http://127.0.0.1:8000/ (Press CTRL+C to quit)\n",
      "[2022-11-18 12:24:30,524] ERROR in app: Exception on / [GET]\n",
      "Traceback (most recent call last):\n",
      "  File \"/Users/imadahmad/opt/anaconda3/lib/python3.9/site-packages/flask/app.py\", line 2447, in wsgi_app\n",
      "    response = self.full_dispatch_request()\n",
      "  File \"/Users/imadahmad/opt/anaconda3/lib/python3.9/site-packages/flask/app.py\", line 1952, in full_dispatch_request\n",
      "    rv = self.handle_user_exception(e)\n",
      "  File \"/Users/imadahmad/opt/anaconda3/lib/python3.9/site-packages/flask/app.py\", line 1821, in handle_user_exception\n",
      "    reraise(exc_type, exc_value, tb)\n",
      "  File \"/Users/imadahmad/opt/anaconda3/lib/python3.9/site-packages/flask/_compat.py\", line 39, in reraise\n",
      "    raise value\n",
      "  File \"/Users/imadahmad/opt/anaconda3/lib/python3.9/site-packages/flask/app.py\", line 1950, in full_dispatch_request\n",
      "    rv = self.dispatch_request()\n",
      "  File \"/Users/imadahmad/opt/anaconda3/lib/python3.9/site-packages/flask/app.py\", line 1936, in dispatch_request\n",
      "    return self.view_functions[rule.endpoint](**req.view_args)\n",
      "  File \"/var/folders/pl/vyn8k19d03z4zxkkm9xgfj6r0000gn/T/ipykernel_17536/470613164.py\", line 6, in index\n",
      "    return render_template('index.html')\n",
      "  File \"/Users/imadahmad/opt/anaconda3/lib/python3.9/site-packages/flask/templating.py\", line 138, in render_template\n",
      "    ctx.app.jinja_env.get_or_select_template(template_name_or_list),\n",
      "  File \"/Users/imadahmad/opt/anaconda3/lib/python3.9/site-packages/jinja2/environment.py\", line 930, in get_or_select_template\n",
      "    return self.get_template(template_name_or_list, parent, globals)\n",
      "  File \"/Users/imadahmad/opt/anaconda3/lib/python3.9/site-packages/jinja2/environment.py\", line 883, in get_template\n",
      "    return self._load_template(name, self.make_globals(globals))\n",
      "  File \"/Users/imadahmad/opt/anaconda3/lib/python3.9/site-packages/jinja2/environment.py\", line 857, in _load_template\n",
      "    template = self.loader.load(self, name, globals)\n",
      "  File \"/Users/imadahmad/opt/anaconda3/lib/python3.9/site-packages/jinja2/loaders.py\", line 127, in load\n",
      "    code = environment.compile(source, name, filename)\n",
      "  File \"/Users/imadahmad/opt/anaconda3/lib/python3.9/site-packages/jinja2/environment.py\", line 638, in compile\n",
      "    self.handle_exception(source=source_hint)\n",
      "  File \"/Users/imadahmad/opt/anaconda3/lib/python3.9/site-packages/jinja2/environment.py\", line 832, in handle_exception\n",
      "    reraise(*rewrite_traceback_stack(source=source))\n",
      "  File \"/Users/imadahmad/opt/anaconda3/lib/python3.9/site-packages/jinja2/_compat.py\", line 28, in reraise\n",
      "    raise value.with_traceback(tb)\n",
      "  File \"/Users/imadahmad/repos/DataOne/templates/index.html\", line 27, in template\n",
      "    {% endblock %}\n",
      "jinja2.exceptions.TemplateSyntaxError: Unexpected end of template. Jinja was looking for the following tags: 'endblock'. The innermost block that needs to be closed is 'block'.\n",
      "127.0.0.1 - - [18/Nov/2022 12:24:30] \"GET / HTTP/1.1\" 500 -\n",
      "[2022-11-18 12:24:34,012] ERROR in app: Exception on / [GET]\n",
      "Traceback (most recent call last):\n",
      "  File \"/Users/imadahmad/opt/anaconda3/lib/python3.9/site-packages/flask/app.py\", line 2447, in wsgi_app\n",
      "    response = self.full_dispatch_request()\n",
      "  File \"/Users/imadahmad/opt/anaconda3/lib/python3.9/site-packages/flask/app.py\", line 1952, in full_dispatch_request\n",
      "    rv = self.handle_user_exception(e)\n",
      "  File \"/Users/imadahmad/opt/anaconda3/lib/python3.9/site-packages/flask/app.py\", line 1821, in handle_user_exception\n",
      "    reraise(exc_type, exc_value, tb)\n",
      "  File \"/Users/imadahmad/opt/anaconda3/lib/python3.9/site-packages/flask/_compat.py\", line 39, in reraise\n",
      "    raise value\n",
      "  File \"/Users/imadahmad/opt/anaconda3/lib/python3.9/site-packages/flask/app.py\", line 1950, in full_dispatch_request\n",
      "    rv = self.dispatch_request()\n",
      "  File \"/Users/imadahmad/opt/anaconda3/lib/python3.9/site-packages/flask/app.py\", line 1936, in dispatch_request\n",
      "    return self.view_functions[rule.endpoint](**req.view_args)\n",
      "  File \"/var/folders/pl/vyn8k19d03z4zxkkm9xgfj6r0000gn/T/ipykernel_17536/470613164.py\", line 6, in index\n",
      "    return render_template('index.html')\n",
      "  File \"/Users/imadahmad/opt/anaconda3/lib/python3.9/site-packages/flask/templating.py\", line 138, in render_template\n",
      "    ctx.app.jinja_env.get_or_select_template(template_name_or_list),\n",
      "  File \"/Users/imadahmad/opt/anaconda3/lib/python3.9/site-packages/jinja2/environment.py\", line 930, in get_or_select_template\n",
      "    return self.get_template(template_name_or_list, parent, globals)\n",
      "  File \"/Users/imadahmad/opt/anaconda3/lib/python3.9/site-packages/jinja2/environment.py\", line 883, in get_template\n",
      "    return self._load_template(name, self.make_globals(globals))\n",
      "  File \"/Users/imadahmad/opt/anaconda3/lib/python3.9/site-packages/jinja2/environment.py\", line 857, in _load_template\n",
      "    template = self.loader.load(self, name, globals)\n",
      "  File \"/Users/imadahmad/opt/anaconda3/lib/python3.9/site-packages/jinja2/loaders.py\", line 127, in load\n",
      "    code = environment.compile(source, name, filename)\n",
      "  File \"/Users/imadahmad/opt/anaconda3/lib/python3.9/site-packages/jinja2/environment.py\", line 638, in compile\n",
      "    self.handle_exception(source=source_hint)\n",
      "  File \"/Users/imadahmad/opt/anaconda3/lib/python3.9/site-packages/jinja2/environment.py\", line 832, in handle_exception\n",
      "    reraise(*rewrite_traceback_stack(source=source))\n",
      "  File \"/Users/imadahmad/opt/anaconda3/lib/python3.9/site-packages/jinja2/_compat.py\", line 28, in reraise\n",
      "    raise value.with_traceback(tb)\n",
      "  File \"/Users/imadahmad/repos/DataOne/templates/index.html\", line 27, in template\n",
      "    {% endblock %}\n",
      "jinja2.exceptions.TemplateSyntaxError: Unexpected end of template. Jinja was looking for the following tags: 'endblock'. The innermost block that needs to be closed is 'block'.\n",
      "127.0.0.1 - - [18/Nov/2022 12:24:34] \"GET / HTTP/1.1\" 500 -\n"
     ]
    }
   ],
   "source": [
    "app = Flask(__name__)\n",
    "\n",
    "\n",
    "@app.route('/')\n",
    "def index():\n",
    "    return render_template('index.html')\n",
    "\n",
    "if __name__ == \"__main__\":\n",
    "    app.run(port=8000)"
   ]
  },
  {
   "cell_type": "code",
   "execution_count": null,
   "outputs": [],
   "source": [],
   "metadata": {
    "collapsed": false
   }
  }
 ],
 "metadata": {
  "kernelspec": {
   "display_name": "Python 3.9.12 ('base')",
   "language": "python",
   "name": "python3"
  },
  "language_info": {
   "codemirror_mode": {
    "name": "ipython",
    "version": 3
   },
   "file_extension": ".py",
   "mimetype": "text/x-python",
   "name": "python",
   "nbconvert_exporter": "python",
   "pygments_lexer": "ipython3",
   "version": "3.9.12"
  },
  "vscode": {
   "interpreter": {
    "hash": "6f1009a57cb97494d7fe0b97f2a8dc348f7096242d8e6033fc64cf0d14b86d6a"
   }
  }
 },
 "nbformat": 4,
 "nbformat_minor": 0
}
