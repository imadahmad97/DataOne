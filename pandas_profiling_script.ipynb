{
 "cells": [
  {
   "cell_type": "code",
   "execution_count": 1,
   "metadata": {
    "collapsed": true
   },
   "outputs": [],
   "source": [
    "import pandas as pd"
   ]
  },
  {
   "cell_type": "code",
   "execution_count": 4,
   "outputs": [],
   "source": [
    "raw_data = pd.read_csv('test_data/kaggle_income.csv', encoding='latin1') # The argument for the pd.read_csv function is what will depend on what file is uploaded."
   ],
   "metadata": {
    "collapsed": false
   }
  },
  {
   "cell_type": "code",
   "execution_count": 5,
   "outputs": [
    {
     "data": {
      "text/plain": "            id  State_Code   State_Name State_ab              County  \\\n0      1011000           1      Alabama       AL       Mobile County   \n1      1011010           1      Alabama       AL      Barbour County   \n2      1011020           1      Alabama       AL       Shelby County   \n3      1011030           1      Alabama       AL       Mobile County   \n4      1011040           1      Alabama       AL       Mobile County   \n...        ...         ...          ...      ...                 ...   \n32521   720296          72  Puerto Rico       PR  Adjuntas Municipio   \n32522  7202966          72  Puerto Rico       PR  Adjuntas Municipio   \n32523  7202976          72  Puerto Rico       PR  Adjuntas Municipio   \n32524  7202986          72  Puerto Rico       PR  Adjuntas Municipio   \n32525  7202996          72  Puerto Rico       PR  Adjuntas Municipio   \n\n                 City            Place   Type Primary  Zip_Code Area_Code  \\\n0           Chickasaw   Chickasaw city   City   place     36611       251   \n1          Louisville        Clio city   City   place     36048       334   \n2          Columbiana  Columbiana city   City   place     35051       205   \n3             Satsuma      Creola city   City   place     36572       251   \n4      Dauphin Island   Dauphin Island   Town   place     36528       251   \n...               ...              ...    ...     ...       ...       ...   \n32521        Guaynabo         Adjuntas  Track   Track       970       787   \n32522          Aguada         Adjuntas  Track   Track       602       787   \n32523          Aguada         Adjuntas  Track   Track       602       787   \n32524          Aguada         Adjuntas  Track   Track       602       787   \n32525       Aguadilla         Adjuntas  Track   Track       603       787   \n\n          ALand     AWater        Lat        Lon   Mean  Median  Stdev  \\\n0      10894952     909156  30.771450 -88.079697  38773   30506  33101   \n1      26070325      23254  31.708516 -85.611039  37725   19528  43789   \n2      44835274     261034  33.191452 -86.615618  54606   31930  57348   \n3      36878729    2374530  30.874343 -88.009442  63919   52814  47707   \n4      16204185  413605152  30.250913 -88.171268  77948   67225  54270   \n...         ...        ...        ...        ...    ...     ...    ...   \n32521    589417       1691  18.397925 -66.130633  30649   13729  37977   \n32522   1801613     795887  18.385424 -67.203310  15520    9923  15541   \n32523  11031227          0  18.356565 -67.180686  41933   34054  31539   \n32524         0   33597561  18.412041 -67.213413      0       0      0   \n32525   6476604    2717115  18.478094 -67.160453  28049   20229  33333   \n\n             sum_w  \n0      1638.260513  \n1       258.017685  \n2       926.031000  \n3       378.114619  \n4       282.320328  \n...            ...  \n32521  1321.278082  \n32522   238.813450  \n32523   313.551070  \n32524     0.000000  \n32525   512.884803  \n\n[32526 rows x 19 columns]",
      "text/html": "<div>\n<style scoped>\n    .dataframe tbody tr th:only-of-type {\n        vertical-align: middle;\n    }\n\n    .dataframe tbody tr th {\n        vertical-align: top;\n    }\n\n    .dataframe thead th {\n        text-align: right;\n    }\n</style>\n<table border=\"1\" class=\"dataframe\">\n  <thead>\n    <tr style=\"text-align: right;\">\n      <th></th>\n      <th>id</th>\n      <th>State_Code</th>\n      <th>State_Name</th>\n      <th>State_ab</th>\n      <th>County</th>\n      <th>City</th>\n      <th>Place</th>\n      <th>Type</th>\n      <th>Primary</th>\n      <th>Zip_Code</th>\n      <th>Area_Code</th>\n      <th>ALand</th>\n      <th>AWater</th>\n      <th>Lat</th>\n      <th>Lon</th>\n      <th>Mean</th>\n      <th>Median</th>\n      <th>Stdev</th>\n      <th>sum_w</th>\n    </tr>\n  </thead>\n  <tbody>\n    <tr>\n      <th>0</th>\n      <td>1011000</td>\n      <td>1</td>\n      <td>Alabama</td>\n      <td>AL</td>\n      <td>Mobile County</td>\n      <td>Chickasaw</td>\n      <td>Chickasaw city</td>\n      <td>City</td>\n      <td>place</td>\n      <td>36611</td>\n      <td>251</td>\n      <td>10894952</td>\n      <td>909156</td>\n      <td>30.771450</td>\n      <td>-88.079697</td>\n      <td>38773</td>\n      <td>30506</td>\n      <td>33101</td>\n      <td>1638.260513</td>\n    </tr>\n    <tr>\n      <th>1</th>\n      <td>1011010</td>\n      <td>1</td>\n      <td>Alabama</td>\n      <td>AL</td>\n      <td>Barbour County</td>\n      <td>Louisville</td>\n      <td>Clio city</td>\n      <td>City</td>\n      <td>place</td>\n      <td>36048</td>\n      <td>334</td>\n      <td>26070325</td>\n      <td>23254</td>\n      <td>31.708516</td>\n      <td>-85.611039</td>\n      <td>37725</td>\n      <td>19528</td>\n      <td>43789</td>\n      <td>258.017685</td>\n    </tr>\n    <tr>\n      <th>2</th>\n      <td>1011020</td>\n      <td>1</td>\n      <td>Alabama</td>\n      <td>AL</td>\n      <td>Shelby County</td>\n      <td>Columbiana</td>\n      <td>Columbiana city</td>\n      <td>City</td>\n      <td>place</td>\n      <td>35051</td>\n      <td>205</td>\n      <td>44835274</td>\n      <td>261034</td>\n      <td>33.191452</td>\n      <td>-86.615618</td>\n      <td>54606</td>\n      <td>31930</td>\n      <td>57348</td>\n      <td>926.031000</td>\n    </tr>\n    <tr>\n      <th>3</th>\n      <td>1011030</td>\n      <td>1</td>\n      <td>Alabama</td>\n      <td>AL</td>\n      <td>Mobile County</td>\n      <td>Satsuma</td>\n      <td>Creola city</td>\n      <td>City</td>\n      <td>place</td>\n      <td>36572</td>\n      <td>251</td>\n      <td>36878729</td>\n      <td>2374530</td>\n      <td>30.874343</td>\n      <td>-88.009442</td>\n      <td>63919</td>\n      <td>52814</td>\n      <td>47707</td>\n      <td>378.114619</td>\n    </tr>\n    <tr>\n      <th>4</th>\n      <td>1011040</td>\n      <td>1</td>\n      <td>Alabama</td>\n      <td>AL</td>\n      <td>Mobile County</td>\n      <td>Dauphin Island</td>\n      <td>Dauphin Island</td>\n      <td>Town</td>\n      <td>place</td>\n      <td>36528</td>\n      <td>251</td>\n      <td>16204185</td>\n      <td>413605152</td>\n      <td>30.250913</td>\n      <td>-88.171268</td>\n      <td>77948</td>\n      <td>67225</td>\n      <td>54270</td>\n      <td>282.320328</td>\n    </tr>\n    <tr>\n      <th>...</th>\n      <td>...</td>\n      <td>...</td>\n      <td>...</td>\n      <td>...</td>\n      <td>...</td>\n      <td>...</td>\n      <td>...</td>\n      <td>...</td>\n      <td>...</td>\n      <td>...</td>\n      <td>...</td>\n      <td>...</td>\n      <td>...</td>\n      <td>...</td>\n      <td>...</td>\n      <td>...</td>\n      <td>...</td>\n      <td>...</td>\n      <td>...</td>\n    </tr>\n    <tr>\n      <th>32521</th>\n      <td>720296</td>\n      <td>72</td>\n      <td>Puerto Rico</td>\n      <td>PR</td>\n      <td>Adjuntas Municipio</td>\n      <td>Guaynabo</td>\n      <td>Adjuntas</td>\n      <td>Track</td>\n      <td>Track</td>\n      <td>970</td>\n      <td>787</td>\n      <td>589417</td>\n      <td>1691</td>\n      <td>18.397925</td>\n      <td>-66.130633</td>\n      <td>30649</td>\n      <td>13729</td>\n      <td>37977</td>\n      <td>1321.278082</td>\n    </tr>\n    <tr>\n      <th>32522</th>\n      <td>7202966</td>\n      <td>72</td>\n      <td>Puerto Rico</td>\n      <td>PR</td>\n      <td>Adjuntas Municipio</td>\n      <td>Aguada</td>\n      <td>Adjuntas</td>\n      <td>Track</td>\n      <td>Track</td>\n      <td>602</td>\n      <td>787</td>\n      <td>1801613</td>\n      <td>795887</td>\n      <td>18.385424</td>\n      <td>-67.203310</td>\n      <td>15520</td>\n      <td>9923</td>\n      <td>15541</td>\n      <td>238.813450</td>\n    </tr>\n    <tr>\n      <th>32523</th>\n      <td>7202976</td>\n      <td>72</td>\n      <td>Puerto Rico</td>\n      <td>PR</td>\n      <td>Adjuntas Municipio</td>\n      <td>Aguada</td>\n      <td>Adjuntas</td>\n      <td>Track</td>\n      <td>Track</td>\n      <td>602</td>\n      <td>787</td>\n      <td>11031227</td>\n      <td>0</td>\n      <td>18.356565</td>\n      <td>-67.180686</td>\n      <td>41933</td>\n      <td>34054</td>\n      <td>31539</td>\n      <td>313.551070</td>\n    </tr>\n    <tr>\n      <th>32524</th>\n      <td>7202986</td>\n      <td>72</td>\n      <td>Puerto Rico</td>\n      <td>PR</td>\n      <td>Adjuntas Municipio</td>\n      <td>Aguada</td>\n      <td>Adjuntas</td>\n      <td>Track</td>\n      <td>Track</td>\n      <td>602</td>\n      <td>787</td>\n      <td>0</td>\n      <td>33597561</td>\n      <td>18.412041</td>\n      <td>-67.213413</td>\n      <td>0</td>\n      <td>0</td>\n      <td>0</td>\n      <td>0.000000</td>\n    </tr>\n    <tr>\n      <th>32525</th>\n      <td>7202996</td>\n      <td>72</td>\n      <td>Puerto Rico</td>\n      <td>PR</td>\n      <td>Adjuntas Municipio</td>\n      <td>Aguadilla</td>\n      <td>Adjuntas</td>\n      <td>Track</td>\n      <td>Track</td>\n      <td>603</td>\n      <td>787</td>\n      <td>6476604</td>\n      <td>2717115</td>\n      <td>18.478094</td>\n      <td>-67.160453</td>\n      <td>28049</td>\n      <td>20229</td>\n      <td>33333</td>\n      <td>512.884803</td>\n    </tr>\n  </tbody>\n</table>\n<p>32526 rows × 19 columns</p>\n</div>"
     },
     "execution_count": 5,
     "metadata": {},
     "output_type": "execute_result"
    }
   ],
   "source": [
    "raw_data"
   ],
   "metadata": {
    "collapsed": false
   }
  },
  {
   "cell_type": "code",
   "execution_count": null,
   "outputs": [],
   "source": [],
   "metadata": {
    "collapsed": false
   }
  }
 ],
 "metadata": {
  "kernelspec": {
   "display_name": "Python 3",
   "language": "python",
   "name": "python3"
  },
  "language_info": {
   "codemirror_mode": {
    "name": "ipython",
    "version": 2
   },
   "file_extension": ".py",
   "mimetype": "text/x-python",
   "name": "python",
   "nbconvert_exporter": "python",
   "pygments_lexer": "ipython2",
   "version": "2.7.6"
  }
 },
 "nbformat": 4,
 "nbformat_minor": 0
}
